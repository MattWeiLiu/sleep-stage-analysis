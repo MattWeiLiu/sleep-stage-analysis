{
 "cells": [
  {
   "cell_type": "code",
   "execution_count": 1,
   "id": "f1e5c998-d79f-4985-bd7e-f6826dd1f7ce",
   "metadata": {},
   "outputs": [],
   "source": [
    "import time\n",
    "from glob import glob\n",
    "import numpy as np \n",
    "import pandas as pd\n",
    "from pyedflib import highlevel\n",
    "\n",
    "from source.DataPartition import DataPartition\n",
    "from source.utils import PPG_peakdetection"
   ]
  },
  {
   "cell_type": "code",
   "execution_count": 2,
   "id": "96cef3bb-c8d0-422d-91bd-79ee764ca202",
   "metadata": {},
   "outputs": [],
   "source": [
    "Fs = 200\n",
    "F = DataLoader()"
   ]
  },
  {
   "cell_type": "code",
   "execution_count": 3,
   "id": "b41ec4c7-ed3f-4e81-a02b-d1f22d9c7591",
   "metadata": {},
   "outputs": [
    {
     "name": "stdout",
     "output_type": "stream",
     "text": [
      "A0001203 Loading!\n",
      "data shape: (711, 9, 35) label shape: (711,)\n",
      "A0001203 Completed!  time: 51.57391023635864\n",
      "A0001184 Loading!\n",
      "data shape: (720, 9, 35) label shape: (720,)\n",
      "A0001184 Completed!  time: 44.868446350097656\n",
      "A0001209 Loading!\n",
      "data shape: (717, 9, 35) label shape: (717,)\n",
      "A0001209 Completed!  time: 45.95600724220276\n",
      "A0001219 Loading!\n",
      "data shape: (716, 9, 35) label shape: (716,)\n",
      "A0001219 Completed!  time: 45.659332513809204\n",
      "A0001220 Loading!\n",
      "data shape: (720, 9, 35) label shape: (720,)\n",
      "A0001220 Completed!  time: 44.591655254364014\n",
      "A0001369 Loading!\n",
      "data shape: (734, 9, 35) label shape: (734,)\n",
      "A0001369 Completed!  time: 47.56259083747864\n",
      "A0001374 Loading!\n",
      "data shape: (732, 9, 35) label shape: (732,)\n",
      "A0001374 Completed!  time: 46.64657425880432\n",
      "A0001349 Loading!\n",
      "data shape: (768, 9, 35) label shape: (768,)\n",
      "A0001349 Completed!  time: 49.199092388153076\n",
      "A0001371 Loading!\n",
      "data shape: (716, 9, 35) label shape: (716,)\n",
      "A0001371 Completed!  time: 46.1786744594574\n",
      "A0001328 Loading!\n",
      "data shape: (772, 9, 35) label shape: (772,)\n",
      "A0001328 Completed!  time: 47.99437594413757\n",
      "A0001217 Loading!\n",
      "data shape: (716, 9, 35) label shape: (716,)\n",
      "A0001217 Completed!  time: 44.7485249042511\n",
      "A0001189 Loading!\n",
      "data shape: (718, 9, 35) label shape: (718,)\n",
      "A0001189 Completed!  time: 44.540249824523926\n",
      "A0001256 Loading!\n",
      "data shape: (718, 9, 35) label shape: (718,)\n",
      "A0001256 Completed!  time: 45.06147861480713\n",
      "A0001194 Loading!\n",
      "data shape: (718, 9, 35) label shape: (718,)\n",
      "A0001194 Completed!  time: 45.72041058540344\n",
      "A0001232 Loading!\n",
      "data shape: (716, 9, 35) label shape: (716,)\n",
      "A0001232 Completed!  time: 44.14710974693298\n",
      "A0001213 Loading!\n",
      "data shape: (717, 9, 35) label shape: (717,)\n",
      "A0001213 Completed!  time: 43.64520597457886\n",
      "A0001233 Loading!\n",
      "data shape: (722, 9, 35) label shape: (722,)\n",
      "A0001233 Completed!  time: 44.92747974395752\n",
      "A0001205 Loading!\n",
      "data shape: (721, 9, 35) label shape: (721,)\n",
      "A0001205 Completed!  time: 43.76474165916443\n",
      "A0001216 Loading!\n",
      "data shape: (719, 9, 35) label shape: (719,)\n",
      "A0001216 Completed!  time: 45.44101858139038\n",
      "A0001192 Loading!\n",
      "data shape: (724, 9, 35) label shape: (724,)\n",
      "A0001192 Completed!  time: 46.22191023826599\n"
     ]
    }
   ],
   "source": [
    "Fs = 200\n",
    "F = DataPartition()\n",
    "\n",
    "for dir_path in glob('./database/LK/*/*'):\n",
    "    stage_0 = time.time()\n",
    "    pnum = dir_path[-15:-11]\n",
    "    edf_path = dir_path + '/A000{}.edf'.format(pnum)\n",
    "    print ('A000{} Loading!'.format(pnum))\n",
    "    stage_path = dir_path + '/STAGE.csv'\n",
    "\n",
    "    # data loading\n",
    "    signals, signal_headers, header = highlevel.read_edf(edf_path)\n",
    "    ppg = signals[18]\n",
    "    \n",
    "    # R peak detection\n",
    "    R, Q = PPG_peakdetection(ppg, Fs)\n",
    "    \n",
    "    # data partition\n",
    "    data, label = F.data_partition(R, len(ppg), stage_path)\n",
    "    print ('data shape: {}'.format(data.shape), 'label shape: {}'.format(label.shape))\n",
    "    \n",
    "    source_file_name = './sleep_features/SleepFeatures_A000{}.npz'.format(pnum)\n",
    "    np.savez(source_file_name, data=data, label=label)\n",
    "    stage_1 = time.time()\n",
    "    print ('A000{} Completed!  time: {}'.format(pnum, str(stage_1 - stage_0)))"
   ]
  },
  {
   "cell_type": "code",
   "execution_count": null,
   "id": "6fa755d7-6e9f-49b3-a892-79921d3fc16a",
   "metadata": {},
   "outputs": [],
   "source": []
  },
  {
   "cell_type": "code",
   "execution_count": null,
   "id": "62b75a18-55b8-4ebb-978f-2f18d91903ef",
   "metadata": {},
   "outputs": [],
   "source": []
  }
 ],
 "metadata": {
  "environment": {
   "kernel": "python3",
   "name": "tf2-gpu.2-6.m87",
   "type": "gcloud",
   "uri": "gcr.io/deeplearning-platform-release/tf2-gpu.2-6:m87"
  },
  "kernelspec": {
   "display_name": "Python 3",
   "language": "python",
   "name": "python3"
  },
  "language_info": {
   "codemirror_mode": {
    "name": "ipython",
    "version": 3
   },
   "file_extension": ".py",
   "mimetype": "text/x-python",
   "name": "python",
   "nbconvert_exporter": "python",
   "pygments_lexer": "ipython3",
   "version": "3.7.12"
  }
 },
 "nbformat": 4,
 "nbformat_minor": 5
}
